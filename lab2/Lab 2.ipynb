{
 "cells": [
  {
   "cell_type": "code",
   "execution_count": 1,
   "metadata": {},
   "outputs": [],
   "source": [
    "\"\"\"\n",
    "This project was developed by Peter Chen, Rocky Duan, Pieter Abbeel for the Berkeley Deep RL Bootcamp, August 2017.\n",
    "Bootcamp website with slides and lecture videos: https://sites.google.com/view/deep-rl-bootcamp/.\n",
    "\n",
    "Code adapted from Stanford CS231N materials: http://cs231n.stanford.edu/\n",
    "\"\"\"\n",
    "\n",
    "\n",
    "# note to properly run this lab, you should execute all code blocks sequentially\n",
    "import chainer\n",
    "import chainer.functions as F\n",
    "import chainer.links as L\n",
    "from chainer import training\n",
    "from chainer.training import extensions\n",
    "\n",
    "from collections import namedtuple, defaultdict, deque\n",
    "\n",
    "import numpy as np\n",
    "\n",
    "%matplotlib inline\n",
    "\n",
    "import matplotlib\n",
    "import matplotlib.pyplot as plt"
   ]
  },
  {
   "cell_type": "markdown",
   "metadata": {},
   "source": [
    "## Introduction to Chainer\n",
    "\n",
    "Chainer can be understood as Numpy plus the ability to record the computation graph of numerical operations to enable Automatic Differentiation. (Chainer actually also offers many other things; for example, a Numpy equivalent library that runs on GPU, but we will ignore them for now)"
   ]
  },
  {
   "cell_type": "markdown",
   "metadata": {},
   "source": [
    "Let's illustrate how Chainer works by a simple 1D regression task.\n",
    "\n",
    "Suppose we have observations from the following model $y = w x + b + \\epsilon$ where $\\epsilon \\sim \\mathcal{N}(0, 0.1)$ and the task is to estimate the linear model parameters $w, b$ from data."
   ]
  },
  {
   "cell_type": "code",
   "execution_count": 2,
   "metadata": {},
   "outputs": [
    {
     "data": {
      "image/png": "[encoded data removed]",
      "text/plain": [
       "<matplotlib.figure.Figure at 0xa4cfde13c8>"
      ]
     },
     "metadata": {},
     "output_type": "display_data"
    }
   ],
   "source": [
    "# first generate some observations\n",
    "true_a = 1.3\n",
    "true_b = 0.4\n",
    "data_x = (np.arange(100) / 99.0 - .5).astype(np.float32) # Chainer assumes all the cpu computation is done in float32\n",
    "data_y = (data_x * true_a + true_b + np.random.randn(*data_x.shape) * 0.1).astype(np.float32)\n",
    "_ = plt.scatter(data_x, data_y, c='b')"
   ]
  },
  {
   "cell_type": "markdown",
   "metadata": {},
   "source": [
    "Chainer provides an abstraction called `Link` that describe some computation and keeps track of parameters for it. For instance, a `Linear` link describes a linear map on input and keeps track of `w` and bias `b`."
   ]
  },
  {
   "cell_type": "code",
   "execution_count": 5,
   "metadata": {},
   "outputs": [
    {
     "name": "stdout",
     "output_type": "stream",
     "text": [
      "w: variable W([[-0.53748727]])\n",
      "b: variable b([ 0.])\n",
      "Operations on chainer.Variable: variable([[ 122.46250916]]), type: <class 'chainer.variable.Variable'>\n",
      "numpy arrays: [[-0.53748727]] [[ 122.46250916]]\n",
      "(100,)\n"
     ]
    }
   ],
   "source": [
    "model = L.Linear(in_size=1, out_size=1) # input is 1D data and output is also 1D data\n",
    "\n",
    "# Chainer will randomly initialize `w` and `b` for us.\n",
    "# we can take a look at their values\n",
    "print(\"w:\", model.W)\n",
    "print(\"b:\", model.b)\n",
    "\n",
    "# model.W and model.b have type `chainer.Variable`, \n",
    "#   which is a wrapper around Numpy array\n",
    "assert isinstance(model.W, chainer.Variable)\n",
    "\n",
    "# operations that involve `chainer.Variable` will produce\n",
    "#   `chainer.Variable` and this records the computation graph\n",
    "var_result = model.W + 123 # some random computation\n",
    "print(\"Operations on chainer.Variable: %s, type: %s\" % (var_result, type(var_result)))\n",
    "\n",
    "# the underlying numpy array can be accessed by `data` attribute\n",
    "print(\"numpy arrays:\", model.W.data, var_result.data)\n",
    "print(data_x.shape)"
   ]
  },
  {
   "cell_type": "code",
   "execution_count": 4,
   "metadata": {},
   "outputs": [
    {
     "data": {
      "image/png": "[encoded data removed]",
      "text/plain": [
       "<matplotlib.figure.Figure at 0xa4cfdb7828>"
      ]
     },
     "metadata": {},
     "output_type": "display_data"
    }
   ],
   "source": [
    "# A chainer link is a callable object. calling it performs the\n",
    "#   forward computation. (in this case, it performs Wx + b)\n",
    "model_y = model(data_x[:, None]) # chainer's link usually assumes input is [Batch Size, Input Dimension]\n",
    "# `model_y` is a chainer variable so we use `.data` to access its numpy array for plotting\n",
    "\n",
    "# we can plot the model's current fit in red. it should be terrible because we haven't trained it yet\n",
    "_ = plt.plot(data_x, model_y.data[:,0], c='r')\n",
    "_ = plt.scatter(data_x, data_y, c='b')\n",
    "_ = plt.title(\"Initial model\")"
   ]
  },
  {
   "cell_type": "code",
   "execution_count": 7,
   "metadata": {},
   "outputs": [
    {
     "name": "stdout",
     "output_type": "stream",
     "text": [
      "loss variable(0.4601721167564392)\n",
      "dloss/dW [[-0.31392586]]\n",
      "[[-0.31392586]]\n",
      "(1, 1)\n"
     ]
    }
   ],
   "source": [
    "# now let's walk through how to perform forward computation\n",
    "#  and use AD to get gradients\n",
    "\n",
    "# first we clear the gradients that are stored in the model\n",
    "model.cleargrads()\n",
    "# as we have seen we can perform forward computation by calling the link\n",
    "model_y = model(data_x[:, None])\n",
    "\n",
    "# remember that `model_y` is a chainer variable. to operate on chainer variable\n",
    "#    we will use functions from chainer.functions to operate on those objects.\n",
    "loss = F.mean(F.square(model_y - data_y[:, None]))\n",
    "# `loss` is a scalar chainer variable\n",
    "assert isinstance(loss, chainer.Variable)\n",
    "print(\"loss\", loss)\n",
    "# calculating gradients d loss /d params is as simple as\n",
    "loss.backward()\n",
    "\n",
    "# we can inspect the gradient of loss with respect to W\n",
    "print(\"dloss/dW\", model.W.grad)\n",
    "print(model.W.grad)\n",
    "print(model.W.data.shape)"
   ]
  },
  {
   "cell_type": "markdown",
   "metadata": {},
   "source": [
    "Now that we know how to calculate gradients, we can code up a simple loop to perform gradient descent to train this model:\n",
    "\n",
    "(Hint: if you run into weird problems, maybe the state has been messed up and you can try re-runing all the code blocks from the beginning)"
   ]
  },
  {
   "cell_type": "code",
   "execution_count": 22,
   "metadata": {},
   "outputs": [
    {
     "name": "stdout",
     "output_type": "stream",
     "text": [
      "Itr 0 loss: variable(0.18640132248401642)\n",
      "Itr 10 loss: variable(0.01319817639887333)\n",
      "Itr 20 loss: variable(0.01094635296612978)\n",
      "Itr 30 loss: variable(0.01056546438485384)\n",
      "Itr 40 loss: variable(0.01050103735178709)\n",
      "Itr 50 loss: variable(0.010490138083696365)\n",
      "Itr 60 loss: variable(0.01048829685896635)\n",
      "Itr 70 loss: variable(0.010487985797226429)\n",
      "Itr 80 loss: variable(0.010487932711839676)\n",
      "Itr 90 loss: variable(0.010487924329936504)\n"
     ]
    },
    {
     "data": {
      "image/png": "[encoded data removed]",
      "text/plain": [
       "<matplotlib.figure.Figure at 0xa4d0f5a6a0>"
      ]
     },
     "metadata": {},
     "output_type": "display_data"
    },
    {
     "data": {
      "image/png": "[encoded data removed]",
      "text/plain": [
       "<matplotlib.figure.Figure at 0xa4d0fdff28>"
      ]
     },
     "metadata": {},
     "output_type": "display_data"
    }
   ],
   "source": [
    "# now we can perform gradient descent to improve this model\n",
    "model = L.Linear(in_size=1, out_size=1)\n",
    "losses = []\n",
    "itr = 100\n",
    "\n",
    "for i in range(itr):\n",
    "    model.cleargrads()\n",
    "    loss = F.mean(F.square(model(data_x[:, None]) - data_y[:, None]))\n",
    "    losses.append(float(loss.data))\n",
    "    ## *** YOUR CODE HERE TO PERFORM GRADIENT DESCENT ***\n",
    "    ## Hint: you could access gradients with model.W.grad, model.b.grad\n",
    "    ## Hint2: you could write data into a parameter with model.W.data[:] = some_numpy_array\n",
    "    ## Hint3: if your model doesn't learn, remember to try different learning rates\n",
    "    loss.backward()\n",
    "    \n",
    "    lr = 0.5 # learning rate for gradient descent\n",
    "    \n",
    "    model.W.data[:] -= lr * model.W.grad\n",
    "    model.b.data[:] -= lr * model.b.grad\n",
    "    \n",
    "    if i % (itr / 10) == 0:\n",
    "        print(\"Itr\", i, \"loss:\", loss)\n",
    "plt.plot(np.array(losses))\n",
    "plt.title(\"Learning curve\")\n",
    "plt.figure()\n",
    "plt.plot(data_x, model(data_x[:, None])[:,0].data, c='r')\n",
    "plt.scatter(data_x, data_y, c='b')\n",
    "_ = plt.title(\"Trained model fitness\")\n"
   ]
  },
  {
   "cell_type": "markdown",
   "metadata": {},
   "source": [
    "## Train your first deep model\n",
    "\n",
    "Now we have learned the basics of Chainer. We can use it to train a deep model to classify MNIST digits. We will train a model on the MNIST dataset because the dataset is small.\n",
    "\n",
    "First we load the data and see what the images look like:"
   ]
  },
  {
   "cell_type": "code",
   "execution_count": 23,
   "metadata": {
    "scrolled": false
   },
   "outputs": [
    {
     "name": "stdout",
     "output_type": "stream",
     "text": [
      "Downloading from http://yann.lecun.com/exdb/mnist/train-images-idx3-ubyte.gz...\n",
      "Downloading from http://yann.lecun.com/exdb/mnist/train-labels-idx1-ubyte.gz...\n",
      "Downloading from http://yann.lecun.com/exdb/mnist/t10k-images-idx3-ubyte.gz...\n",
      "Downloading from http://yann.lecun.com/exdb/mnist/t10k-labels-idx1-ubyte.gz...\n",
      "train[i][0] is the ith image that's flattened, and has shape: (784,)\n",
      "train[i][1] is the ith image's label, such as: 3\n"
     ]
    },
    {
     "data": {
      "image/png": "[encoded data removed]",
      "text/plain": [
       "<matplotlib.figure.Figure at 0xa4d135cb38>"
      ]
     },
     "metadata": {},
     "output_type": "display_data"
    },
    {
     "data": {
      "image/png": "[encoded data removed]",
      "text/plain": [
       "<matplotlib.figure.Figure at 0xa4d10b9e80>"
      ]
     },
     "metadata": {},
     "output_type": "display_data"
    }
   ],
   "source": [
    "train, test = chainer.datasets.get_mnist()\n",
    "# use train[data_point_index] to access data\n",
    "print(\"train[i][0] is the ith image that's flattened, and has shape:\", train[12][0].shape)\n",
    "print(\"train[i][1] is the ith image's label, such as:\", train[12][1])\n",
    "# here we visualize two of them\n",
    "plt.imshow(train[12][0].reshape([28, 28,]))\n",
    "plt.title(\"Label: %s\" % train[12][1])\n",
    "plt.figure()\n",
    "plt.imshow(train[42][0].reshape([28, 28,]))\n",
    "_ = plt.title(\"Label: %s\" % train[42][1])"
   ]
  },
  {
   "cell_type": "markdown",
   "metadata": {},
   "source": [
    "Next we will provide some boilerplate code and train a linear classifier as an example:"
   ]
  },
  {
   "cell_type": "code",
   "execution_count": 24,
   "metadata": {},
   "outputs": [
    {
     "name": "stdout",
     "output_type": "stream",
     "text": [
      "accuracy: 0.0625; loss: 2.34032988548\n",
      "accuracy: 0.8525; loss: 0.598630113602\n",
      "accuracy: 0.875; loss: 0.471965401769\n",
      "accuracy: 0.855; loss: 0.486075101495\n",
      "accuracy: 0.91; loss: 0.377774413824\n",
      "accuracy: 0.8625; loss: 0.437305779755\n",
      "accuracy: 0.9075; loss: 0.322643093467\n",
      "accuracy: 0.9125; loss: 0.319489635825\n",
      "accuracy: 0.905; loss: 0.318381639421\n",
      "accuracy: 0.9025; loss: 0.291053823233\n",
      "accuracy: 0.8825; loss: 0.350318266451\n",
      "accuracy: 0.9075; loss: 0.326097099781\n",
      "accuracy: 0.91; loss: 0.30339533776\n",
      "accuracy: 0.91; loss: 0.354103405774\n",
      "accuracy: 0.91; loss: 0.305984061211\n",
      "accuracy: 0.9125; loss: 0.305028057992\n",
      "accuracy: 0.9275; loss: 0.294065425098\n",
      "accuracy: 0.9025; loss: 0.331497419477\n",
      "accuracy: 0.905; loss: 0.315456804633\n",
      "accuracy: 0.91; loss: 0.294870039225\n",
      "accuracy: 0.9075; loss: 0.32129611522\n",
      "accuracy: 0.905; loss: 0.34845443964\n",
      "accuracy: 0.9475; loss: 0.233094307482\n",
      "accuracy: 0.9375; loss: 0.238038635552\n",
      "accuracy: 0.94; loss: 0.236493348628\n",
      "accuracy: 0.9175; loss: 0.323040632606\n"
     ]
    }
   ],
   "source": [
    "def run(model, batchsize=16, num_epochs=2):\n",
    "    \n",
    "    optimizer = chainer.optimizers.Adam() # we will use chainer's Adam implementation instead of writing our own gradient based optimization\n",
    "    optimizer.setup(model)\n",
    "    \n",
    "    stats = defaultdict(lambda: deque(maxlen=25))\n",
    "    for epoch in range(num_epochs):\n",
    "        train_iter = chainer.iterators.SerialIterator(train, batchsize, repeat=False, shuffle=True)\n",
    "        test_iter = chainer.iterators.SerialIterator(test, batchsize, repeat=False, shuffle=False)\n",
    "        \n",
    "        for itr, batch in enumerate(train_iter):\n",
    "            xs = np.concatenate([datum[0][None, :] for datum in batch])\n",
    "            ys = np.array([datum[1] for datum in batch])\n",
    "\n",
    "            logits = model(xs)\n",
    "\n",
    "            loss = F.softmax_cross_entropy(logits, ys)\n",
    "            model.cleargrads()\n",
    "            loss.backward()\n",
    "            optimizer.update()\n",
    "            \n",
    "            # calculate stats\n",
    "            stats[\"loss\"].append(float(loss.data))\n",
    "            stats[\"accuracy\"].append(float((logits.data.argmax(1) == ys).sum() / batchsize))\n",
    "            if itr % 300 == 0:\n",
    "                print(\"; \".join(\"%s: %s\" % (k, np.mean(vs)) for k, vs in stats.items()))\n",
    "\n",
    "# try a simple linear model\n",
    "run(L.Linear(None, 10))"
   ]
  },
  {
   "cell_type": "markdown",
   "metadata": {},
   "source": [
    "Next we will try to improve performance by training an MLP instead. A partial implementation is provided for you to fill in:"
   ]
  },
  {
   "cell_type": "code",
   "execution_count": 26,
   "metadata": {},
   "outputs": [
    {
     "name": "stdout",
     "output_type": "stream",
     "text": [
      "accuracy: 0.125; loss: 2.42957687378\n",
      "accuracy: 0.875; loss: 0.541431388855\n",
      "accuracy: 0.9125; loss: 0.357215012908\n",
      "accuracy: 0.915; loss: 0.284769186974\n",
      "accuracy: 0.905; loss: 0.322890809178\n",
      "accuracy: 0.935; loss: 0.222510794401\n",
      "accuracy: 0.91; loss: 0.242181221843\n",
      "accuracy: 0.925; loss: 0.242365814447\n",
      "accuracy: 0.92; loss: 0.251047032475\n",
      "accuracy: 0.95; loss: 0.184854063988\n",
      "accuracy: 0.9375; loss: 0.204441981912\n",
      "accuracy: 0.9625; loss: 0.210484271049\n",
      "accuracy: 0.93; loss: 0.212358283997\n",
      "accuracy: 0.93; loss: 0.235243062377\n",
      "accuracy: 0.9425; loss: 0.186458755732\n",
      "accuracy: 0.9725; loss: 0.105167805552\n",
      "accuracy: 0.9575; loss: 0.127607072592\n",
      "accuracy: 0.95; loss: 0.157956313789\n",
      "accuracy: 0.9575; loss: 0.179014304578\n",
      "accuracy: 0.96; loss: 0.124222531021\n",
      "accuracy: 0.945; loss: 0.176123780012\n",
      "accuracy: 0.9625; loss: 0.145336849689\n",
      "accuracy: 0.9575; loss: 0.126925991774\n",
      "accuracy: 0.9775; loss: 0.0807005056739\n",
      "accuracy: 0.9925; loss: 0.0428945034742\n",
      "accuracy: 0.9675; loss: 0.0944655385613\n"
     ]
    }
   ],
   "source": [
    "class MLP(chainer.Chain):\n",
    "\n",
    "    def __init__(self, n_units, n_out):\n",
    "        super(MLP, self).__init__()\n",
    "        with self.init_scope():\n",
    "            # the size of the inputs to each layer will be inferred\n",
    "            self.l1 = L.Linear(None, n_units)  # n_in -> n_units\n",
    "            self.l2 = L.Linear(None, n_units)  # n_units -> n_units\n",
    "            self.l3 = L.Linear(None, n_out)  # n_units -> n_out\n",
    "\n",
    "    def __call__(self, x):\n",
    "        # *** YOUR CODE HERE TO BUILD AN MLP W/ self.l1, self.l2, self.l3 ***\n",
    "        # \n",
    "        # Hint: you should make use of non-linearities / activation functions\n",
    "        #     https://docs.chainer.org/en/stable/reference/functions.html#activation-functions\n",
    "        # raise NotImplementedError()\n",
    "        out_l1 = F.sigmoid(self.l1(x))\n",
    "        out_l2 = F.sigmoid(self.l2(out_l1))\n",
    "        out = self.l3(out_l2)\n",
    "        return out\n",
    "run(MLP(200, 10))"
   ]
  },
  {
   "cell_type": "markdown",
   "metadata": {},
   "source": [
    "Next you should try to implement logging test loss and see if the model is overfitting."
   ]
  },
  {
   "cell_type": "code",
   "execution_count": 28,
   "metadata": {},
   "outputs": [
    {
     "name": "stdout",
     "output_type": "stream",
     "text": [
      "test loss: 2.31871533394; accuracy: 0.0; loss: 2.45276689529\n",
      "test loss: 0.56797772646; accuracy: 0.86; loss: 0.581387865543\n",
      "test loss: 0.106827184558; accuracy: 0.9; loss: 0.358865501285\n",
      "test loss: 0.253973275423; accuracy: 0.9025; loss: 0.294294090271\n",
      "test loss: 0.245372533798; accuracy: 0.9025; loss: 0.299860730171\n",
      "test loss: 0.052557259798; accuracy: 0.93; loss: 0.22606243372\n",
      "test loss: 0.294285058975; accuracy: 0.9375; loss: 0.218195562363\n",
      "test loss: 0.538437902927; accuracy: 0.93; loss: 0.199089818001\n",
      "test loss: 0.23218691349; accuracy: 0.91; loss: 0.260336458683\n",
      "test loss: 0.19368262589; accuracy: 0.9325; loss: 0.2425933218\n",
      "test loss: 0.065010279417; accuracy: 0.9375; loss: 0.205106070042\n",
      "test loss: 0.354967653751; accuracy: 0.925; loss: 0.236370804906\n",
      "test loss: 0.17680093646; accuracy: 0.945; loss: 0.157186422944\n",
      "test loss: 0.0908408761024; accuracy: 0.955; loss: 0.163503357768\n",
      "test loss: 0.0298972725868; accuracy: 0.9525; loss: 0.155067546368\n",
      "test loss: 0.0638807266951; accuracy: 0.945; loss: 0.159304757118\n",
      "test loss: 0.109757184982; accuracy: 0.9675; loss: 0.133310168684\n",
      "test loss: 0.0863049775362; accuracy: 0.9675; loss: 0.0952194780111\n",
      "test loss: 0.0662045925856; accuracy: 0.9675; loss: 0.112325513363\n",
      "test loss: 0.0775969028473; accuracy: 0.9775; loss: 0.0925966387987\n",
      "test loss: 0.238359749317; accuracy: 0.96; loss: 0.155493462086\n",
      "test loss: 0.035190269351; accuracy: 0.9675; loss: 0.0961227762699\n",
      "test loss: 0.0807296335697; accuracy: 0.94; loss: 0.189964142442\n",
      "test loss: 0.163094073534; accuracy: 0.97; loss: 0.0929410195351\n",
      "test loss: 0.0975473970175; accuracy: 0.9625; loss: 0.12344260335\n",
      "test loss: 0.0154683440924; accuracy: 0.9775; loss: 0.0813882738352\n"
     ]
    }
   ],
   "source": [
    "def better_run(model, batchsize=16, num_epochs=2):\n",
    "\n",
    "    optimizer = chainer.optimizers.Adam() # we will use chainer's Adam implementation instead of writing our own gradient based optimization\n",
    "    optimizer.setup(model)\n",
    "    \n",
    "    stats = defaultdict(lambda: deque(maxlen=25))\n",
    "    for epoch in range(num_epochs):\n",
    "        train_iter = chainer.iterators.SerialIterator(train, batchsize, repeat=False, shuffle=True)\n",
    "        for itr, batch in enumerate(train_iter):\n",
    "            xs = np.concatenate([datum[0][None, :] for datum in batch])\n",
    "            ys = np.array([datum[1] for datum in batch])\n",
    "\n",
    "            logits = model(xs)\n",
    "\n",
    "            loss = F.softmax_cross_entropy(logits, ys)\n",
    "            model.cleargrads()\n",
    "            loss.backward()\n",
    "            optimizer.update()\n",
    "            \n",
    "            # calculate stats\n",
    "            stats[\"loss\"].append(float(loss.data))\n",
    "            stats[\"accuracy\"].append(float((logits.data.argmax(1) == ys).sum() / batchsize))\n",
    "            if itr % 300 == 0:\n",
    "                test_iter = chainer.iterators.SerialIterator(test, batchsize, repeat=False, shuffle=False)\n",
    "                # *** YOUR CODE implement logging of stats on test set ***\n",
    "                for itr_test, batch_test in enumerate(test_iter):\n",
    "                    xs_test = np.concatenate([d[0][None, :] for d in batch])\n",
    "                    ys_test = np.array([d[1] for d in batch])\n",
    "                    \n",
    "                    logits_test = model(xs_test)\n",
    "                    \n",
    "                    loss_test = F.softmax_cross_entropy(logits_test, ys)\n",
    "                    \n",
    "                    stats[\"test loss\"].append(float(loss_test.data))\n",
    "                    \n",
    "                print(\"; \".join(\"%s: %s\" % (k, np.mean(vs)) for k, vs in stats.items()))\n",
    "\n",
    "better_run(MLP(200, 10))"
   ]
  },
  {
   "cell_type": "markdown",
   "metadata": {},
   "source": [
    "Try different variants!\n",
    "\n",
    "- Does using a ConvNet improve performance (reduce overfitting?)\n",
    "- Try changing the learning rate and observe the effect\n",
    "- Does the model train if you give it correlated gradients? (consecutively sample many batches of \"1\", then many batches of \"2\", ... etc"
   ]
  }
 ],
 "metadata": {
  "kernelspec": {
   "display_name": "deeprlbootcamp",
   "language": "python",
   "name": "deeprlbootcamp"
  },
  "language_info": {
   "codemirror_mode": {
    "name": "ipython",
    "version": 3
   },
   "file_extension": ".py",
   "mimetype": "text/x-python",
   "name": "python",
   "nbconvert_exporter": "python",
   "pygments_lexer": "ipython3",
   "version": "3.5.3"
  }
 },
 "nbformat": 4,
 "nbformat_minor": 1
}
